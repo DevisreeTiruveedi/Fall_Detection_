{
 "cells": [
  {
   "cell_type": "code",
   "execution_count": 1,
   "id": "cd5382fd",
   "metadata": {},
   "outputs": [],
   "source": [
    "import pandas as pd\n",
    "import numpy as np\n",
    "import matplotlib.pyplot as plt\n",
    "import seaborn as sns"
   ]
  },
  {
   "cell_type": "code",
   "execution_count": 2,
   "id": "d0c6655a",
   "metadata": {},
   "outputs": [],
   "source": [
    "df=pd.read_csv('Mean_fall_detection_50.csv')"
   ]
  },
  {
   "cell_type": "code",
   "execution_count": 3,
   "id": "65b27390",
   "metadata": {},
   "outputs": [
    {
     "data": {
      "text/html": [
       "<div>\n",
       "<style scoped>\n",
       "    .dataframe tbody tr th:only-of-type {\n",
       "        vertical-align: middle;\n",
       "    }\n",
       "\n",
       "    .dataframe tbody tr th {\n",
       "        vertical-align: top;\n",
       "    }\n",
       "\n",
       "    .dataframe thead th {\n",
       "        text-align: right;\n",
       "    }\n",
       "</style>\n",
       "<table border=\"1\" class=\"dataframe\">\n",
       "  <thead>\n",
       "    <tr style=\"text-align: right;\">\n",
       "      <th></th>\n",
       "      <th>Unnamed: 0</th>\n",
       "      <th>a_x_mean</th>\n",
       "      <th>a_y_mean</th>\n",
       "      <th>a_z_mean</th>\n",
       "      <th>a_x_median</th>\n",
       "      <th>a_y_median</th>\n",
       "      <th>a_z_median</th>\n",
       "      <th>a_x_max</th>\n",
       "      <th>a_y_max</th>\n",
       "      <th>a_z_max</th>\n",
       "      <th>...</th>\n",
       "      <th>o_x_max</th>\n",
       "      <th>o_y_max</th>\n",
       "      <th>o_z_max</th>\n",
       "      <th>o_x_min</th>\n",
       "      <th>o_y_min</th>\n",
       "      <th>o_z_min</th>\n",
       "      <th>o_x_diff</th>\n",
       "      <th>o_y_diff</th>\n",
       "      <th>o_z_diff</th>\n",
       "      <th>fallen</th>\n",
       "    </tr>\n",
       "  </thead>\n",
       "  <tbody>\n",
       "    <tr>\n",
       "      <th>0</th>\n",
       "      <td>0</td>\n",
       "      <td>-4.630279</td>\n",
       "      <td>-2.002789</td>\n",
       "      <td>6.558367</td>\n",
       "      <td>-1.5</td>\n",
       "      <td>-2.25</td>\n",
       "      <td>8.8</td>\n",
       "      <td>36.1</td>\n",
       "      <td>21.9</td>\n",
       "      <td>39.2</td>\n",
       "      <td>...</td>\n",
       "      <td>0.1</td>\n",
       "      <td>0.8</td>\n",
       "      <td>0.5</td>\n",
       "      <td>-0.5</td>\n",
       "      <td>-0.0</td>\n",
       "      <td>-0.3</td>\n",
       "      <td>0.6</td>\n",
       "      <td>0.8</td>\n",
       "      <td>0.8</td>\n",
       "      <td>1</td>\n",
       "    </tr>\n",
       "    <tr>\n",
       "      <th>1</th>\n",
       "      <td>1</td>\n",
       "      <td>-5.221053</td>\n",
       "      <td>-2.285053</td>\n",
       "      <td>5.308632</td>\n",
       "      <td>-5.8</td>\n",
       "      <td>-3.50</td>\n",
       "      <td>5.0</td>\n",
       "      <td>39.2</td>\n",
       "      <td>19.5</td>\n",
       "      <td>39.2</td>\n",
       "      <td>...</td>\n",
       "      <td>0.3</td>\n",
       "      <td>0.6</td>\n",
       "      <td>-0.0</td>\n",
       "      <td>-0.4</td>\n",
       "      <td>-0.1</td>\n",
       "      <td>-0.9</td>\n",
       "      <td>0.7</td>\n",
       "      <td>0.7</td>\n",
       "      <td>0.9</td>\n",
       "      <td>1</td>\n",
       "    </tr>\n",
       "    <tr>\n",
       "      <th>2</th>\n",
       "      <td>2</td>\n",
       "      <td>-3.355670</td>\n",
       "      <td>-2.800258</td>\n",
       "      <td>5.467010</td>\n",
       "      <td>-0.8</td>\n",
       "      <td>-3.55</td>\n",
       "      <td>8.5</td>\n",
       "      <td>34.7</td>\n",
       "      <td>26.6</td>\n",
       "      <td>39.2</td>\n",
       "      <td>...</td>\n",
       "      <td>0.7</td>\n",
       "      <td>0.6</td>\n",
       "      <td>-0.4</td>\n",
       "      <td>-0.1</td>\n",
       "      <td>-0.1</td>\n",
       "      <td>-1.0</td>\n",
       "      <td>0.8</td>\n",
       "      <td>0.7</td>\n",
       "      <td>0.6</td>\n",
       "      <td>1</td>\n",
       "    </tr>\n",
       "    <tr>\n",
       "      <th>3</th>\n",
       "      <td>3</td>\n",
       "      <td>-3.621235</td>\n",
       "      <td>-1.294127</td>\n",
       "      <td>5.568524</td>\n",
       "      <td>-1.8</td>\n",
       "      <td>-2.00</td>\n",
       "      <td>6.9</td>\n",
       "      <td>24.0</td>\n",
       "      <td>22.6</td>\n",
       "      <td>39.2</td>\n",
       "      <td>...</td>\n",
       "      <td>0.6</td>\n",
       "      <td>0.7</td>\n",
       "      <td>-0.2</td>\n",
       "      <td>-0.3</td>\n",
       "      <td>-0.5</td>\n",
       "      <td>-1.0</td>\n",
       "      <td>0.9</td>\n",
       "      <td>1.2</td>\n",
       "      <td>0.8</td>\n",
       "      <td>1</td>\n",
       "    </tr>\n",
       "    <tr>\n",
       "      <th>4</th>\n",
       "      <td>4</td>\n",
       "      <td>-8.319650</td>\n",
       "      <td>-2.242996</td>\n",
       "      <td>3.627821</td>\n",
       "      <td>-8.7</td>\n",
       "      <td>-1.70</td>\n",
       "      <td>4.4</td>\n",
       "      <td>39.2</td>\n",
       "      <td>33.4</td>\n",
       "      <td>39.2</td>\n",
       "      <td>...</td>\n",
       "      <td>0.7</td>\n",
       "      <td>0.5</td>\n",
       "      <td>-0.6</td>\n",
       "      <td>0.1</td>\n",
       "      <td>-0.2</td>\n",
       "      <td>-0.9</td>\n",
       "      <td>0.6</td>\n",
       "      <td>0.7</td>\n",
       "      <td>0.3</td>\n",
       "      <td>1</td>\n",
       "    </tr>\n",
       "  </tbody>\n",
       "</table>\n",
       "<p>5 rows × 47 columns</p>\n",
       "</div>"
      ],
      "text/plain": [
       "   Unnamed: 0  a_x_mean  a_y_mean  a_z_mean  a_x_median  a_y_median  \\\n",
       "0           0 -4.630279 -2.002789  6.558367        -1.5       -2.25   \n",
       "1           1 -5.221053 -2.285053  5.308632        -5.8       -3.50   \n",
       "2           2 -3.355670 -2.800258  5.467010        -0.8       -3.55   \n",
       "3           3 -3.621235 -1.294127  5.568524        -1.8       -2.00   \n",
       "4           4 -8.319650 -2.242996  3.627821        -8.7       -1.70   \n",
       "\n",
       "   a_z_median  a_x_max  a_y_max  a_z_max  ...  o_x_max  o_y_max  o_z_max  \\\n",
       "0         8.8     36.1     21.9     39.2  ...      0.1      0.8      0.5   \n",
       "1         5.0     39.2     19.5     39.2  ...      0.3      0.6     -0.0   \n",
       "2         8.5     34.7     26.6     39.2  ...      0.7      0.6     -0.4   \n",
       "3         6.9     24.0     22.6     39.2  ...      0.6      0.7     -0.2   \n",
       "4         4.4     39.2     33.4     39.2  ...      0.7      0.5     -0.6   \n",
       "\n",
       "   o_x_min  o_y_min  o_z_min  o_x_diff  o_y_diff  o_z_diff  fallen  \n",
       "0     -0.5     -0.0     -0.3       0.6       0.8       0.8       1  \n",
       "1     -0.4     -0.1     -0.9       0.7       0.7       0.9       1  \n",
       "2     -0.1     -0.1     -1.0       0.8       0.7       0.6       1  \n",
       "3     -0.3     -0.5     -1.0       0.9       1.2       0.8       1  \n",
       "4      0.1     -0.2     -0.9       0.6       0.7       0.3       1  \n",
       "\n",
       "[5 rows x 47 columns]"
      ]
     },
     "execution_count": 3,
     "metadata": {},
     "output_type": "execute_result"
    }
   ],
   "source": [
    "df.head()"
   ]
  },
  {
   "cell_type": "code",
   "execution_count": 4,
   "id": "87250f36",
   "metadata": {},
   "outputs": [
    {
     "data": {
      "text/html": [
       "<div>\n",
       "<style scoped>\n",
       "    .dataframe tbody tr th:only-of-type {\n",
       "        vertical-align: middle;\n",
       "    }\n",
       "\n",
       "    .dataframe tbody tr th {\n",
       "        vertical-align: top;\n",
       "    }\n",
       "\n",
       "    .dataframe thead th {\n",
       "        text-align: right;\n",
       "    }\n",
       "</style>\n",
       "<table border=\"1\" class=\"dataframe\">\n",
       "  <thead>\n",
       "    <tr style=\"text-align: right;\">\n",
       "      <th></th>\n",
       "      <th>Unnamed: 0</th>\n",
       "      <th>a_x_mean</th>\n",
       "      <th>a_y_mean</th>\n",
       "      <th>a_z_mean</th>\n",
       "      <th>a_x_median</th>\n",
       "      <th>a_y_median</th>\n",
       "      <th>a_z_median</th>\n",
       "      <th>a_x_max</th>\n",
       "      <th>a_y_max</th>\n",
       "      <th>a_z_max</th>\n",
       "      <th>...</th>\n",
       "      <th>o_x_max</th>\n",
       "      <th>o_y_max</th>\n",
       "      <th>o_z_max</th>\n",
       "      <th>o_x_min</th>\n",
       "      <th>o_y_min</th>\n",
       "      <th>o_z_min</th>\n",
       "      <th>o_x_diff</th>\n",
       "      <th>o_y_diff</th>\n",
       "      <th>o_z_diff</th>\n",
       "      <th>fallen</th>\n",
       "    </tr>\n",
       "  </thead>\n",
       "  <tbody>\n",
       "    <tr>\n",
       "      <th>count</th>\n",
       "      <td>266.000000</td>\n",
       "      <td>266.000000</td>\n",
       "      <td>266.000000</td>\n",
       "      <td>266.000000</td>\n",
       "      <td>266.000000</td>\n",
       "      <td>266.000000</td>\n",
       "      <td>266.000000</td>\n",
       "      <td>266.000000</td>\n",
       "      <td>266.000000</td>\n",
       "      <td>266.000000</td>\n",
       "      <td>...</td>\n",
       "      <td>266.000000</td>\n",
       "      <td>266.000000</td>\n",
       "      <td>266.000000</td>\n",
       "      <td>266.000000</td>\n",
       "      <td>266.000000</td>\n",
       "      <td>266.000000</td>\n",
       "      <td>266.000000</td>\n",
       "      <td>266.000000</td>\n",
       "      <td>266.000000</td>\n",
       "      <td>266.000000</td>\n",
       "    </tr>\n",
       "    <tr>\n",
       "      <th>mean</th>\n",
       "      <td>132.500000</td>\n",
       "      <td>-2.839936</td>\n",
       "      <td>-2.687060</td>\n",
       "      <td>3.188710</td>\n",
       "      <td>-2.366165</td>\n",
       "      <td>-2.793985</td>\n",
       "      <td>3.249624</td>\n",
       "      <td>18.246241</td>\n",
       "      <td>17.506015</td>\n",
       "      <td>24.478195</td>\n",
       "      <td>...</td>\n",
       "      <td>0.454135</td>\n",
       "      <td>0.457895</td>\n",
       "      <td>0.480451</td>\n",
       "      <td>-0.463534</td>\n",
       "      <td>-0.462782</td>\n",
       "      <td>-0.384962</td>\n",
       "      <td>0.917669</td>\n",
       "      <td>0.920677</td>\n",
       "      <td>0.865414</td>\n",
       "      <td>0.421053</td>\n",
       "    </tr>\n",
       "    <tr>\n",
       "      <th>std</th>\n",
       "      <td>76.931788</td>\n",
       "      <td>3.555109</td>\n",
       "      <td>2.520342</td>\n",
       "      <td>3.056749</td>\n",
       "      <td>3.974271</td>\n",
       "      <td>2.735401</td>\n",
       "      <td>3.898478</td>\n",
       "      <td>13.263751</td>\n",
       "      <td>11.961878</td>\n",
       "      <td>10.949647</td>\n",
       "      <td>...</td>\n",
       "      <td>0.281106</td>\n",
       "      <td>0.274642</td>\n",
       "      <td>0.475586</td>\n",
       "      <td>0.260452</td>\n",
       "      <td>0.275143</td>\n",
       "      <td>0.523197</td>\n",
       "      <td>0.281686</td>\n",
       "      <td>0.295222</td>\n",
       "      <td>0.467033</td>\n",
       "      <td>0.494659</td>\n",
       "    </tr>\n",
       "    <tr>\n",
       "      <th>min</th>\n",
       "      <td>0.000000</td>\n",
       "      <td>-9.901221</td>\n",
       "      <td>-10.046100</td>\n",
       "      <td>-4.859386</td>\n",
       "      <td>-10.200000</td>\n",
       "      <td>-8.800000</td>\n",
       "      <td>-8.300000</td>\n",
       "      <td>-1.800000</td>\n",
       "      <td>-0.600000</td>\n",
       "      <td>9.300000</td>\n",
       "      <td>...</td>\n",
       "      <td>-0.100000</td>\n",
       "      <td>-0.200000</td>\n",
       "      <td>-0.700000</td>\n",
       "      <td>-1.000000</td>\n",
       "      <td>-1.000000</td>\n",
       "      <td>-1.000000</td>\n",
       "      <td>0.300000</td>\n",
       "      <td>0.300000</td>\n",
       "      <td>0.000000</td>\n",
       "      <td>0.000000</td>\n",
       "    </tr>\n",
       "    <tr>\n",
       "      <th>25%</th>\n",
       "      <td>66.250000</td>\n",
       "      <td>-5.411063</td>\n",
       "      <td>-4.266236</td>\n",
       "      <td>0.975234</td>\n",
       "      <td>-5.675000</td>\n",
       "      <td>-4.475000</td>\n",
       "      <td>0.700000</td>\n",
       "      <td>5.575000</td>\n",
       "      <td>7.650000</td>\n",
       "      <td>13.550000</td>\n",
       "      <td>...</td>\n",
       "      <td>0.200000</td>\n",
       "      <td>0.200000</td>\n",
       "      <td>0.200000</td>\n",
       "      <td>-0.700000</td>\n",
       "      <td>-0.700000</td>\n",
       "      <td>-0.900000</td>\n",
       "      <td>0.700000</td>\n",
       "      <td>0.700000</td>\n",
       "      <td>0.500000</td>\n",
       "      <td>0.000000</td>\n",
       "    </tr>\n",
       "    <tr>\n",
       "      <th>50%</th>\n",
       "      <td>132.500000</td>\n",
       "      <td>-3.323984</td>\n",
       "      <td>-2.724636</td>\n",
       "      <td>3.642643</td>\n",
       "      <td>-1.800000</td>\n",
       "      <td>-2.950000</td>\n",
       "      <td>3.225000</td>\n",
       "      <td>17.100000</td>\n",
       "      <td>14.150000</td>\n",
       "      <td>23.000000</td>\n",
       "      <td>...</td>\n",
       "      <td>0.500000</td>\n",
       "      <td>0.500000</td>\n",
       "      <td>0.600000</td>\n",
       "      <td>-0.500000</td>\n",
       "      <td>-0.500000</td>\n",
       "      <td>-0.500000</td>\n",
       "      <td>0.900000</td>\n",
       "      <td>0.900000</td>\n",
       "      <td>0.800000</td>\n",
       "      <td>0.000000</td>\n",
       "    </tr>\n",
       "    <tr>\n",
       "      <th>75%</th>\n",
       "      <td>198.750000</td>\n",
       "      <td>-0.217629</td>\n",
       "      <td>-1.369519</td>\n",
       "      <td>5.599922</td>\n",
       "      <td>0.537500</td>\n",
       "      <td>-1.700000</td>\n",
       "      <td>6.600000</td>\n",
       "      <td>30.600000</td>\n",
       "      <td>25.775000</td>\n",
       "      <td>36.175000</td>\n",
       "      <td>...</td>\n",
       "      <td>0.700000</td>\n",
       "      <td>0.700000</td>\n",
       "      <td>0.900000</td>\n",
       "      <td>-0.200000</td>\n",
       "      <td>-0.200000</td>\n",
       "      <td>0.000000</td>\n",
       "      <td>1.100000</td>\n",
       "      <td>1.100000</td>\n",
       "      <td>1.075000</td>\n",
       "      <td>1.000000</td>\n",
       "    </tr>\n",
       "    <tr>\n",
       "      <th>max</th>\n",
       "      <td>265.000000</td>\n",
       "      <td>6.533642</td>\n",
       "      <td>4.267692</td>\n",
       "      <td>8.824521</td>\n",
       "      <td>7.800000</td>\n",
       "      <td>7.800000</td>\n",
       "      <td>9.700000</td>\n",
       "      <td>39.200000</td>\n",
       "      <td>39.100000</td>\n",
       "      <td>39.200000</td>\n",
       "      <td>...</td>\n",
       "      <td>1.000000</td>\n",
       "      <td>1.000000</td>\n",
       "      <td>1.000000</td>\n",
       "      <td>0.100000</td>\n",
       "      <td>0.200000</td>\n",
       "      <td>0.900000</td>\n",
       "      <td>1.800000</td>\n",
       "      <td>1.700000</td>\n",
       "      <td>2.000000</td>\n",
       "      <td>1.000000</td>\n",
       "    </tr>\n",
       "  </tbody>\n",
       "</table>\n",
       "<p>8 rows × 47 columns</p>\n",
       "</div>"
      ],
      "text/plain": [
       "       Unnamed: 0    a_x_mean    a_y_mean    a_z_mean  a_x_median  a_y_median  \\\n",
       "count  266.000000  266.000000  266.000000  266.000000  266.000000  266.000000   \n",
       "mean   132.500000   -2.839936   -2.687060    3.188710   -2.366165   -2.793985   \n",
       "std     76.931788    3.555109    2.520342    3.056749    3.974271    2.735401   \n",
       "min      0.000000   -9.901221  -10.046100   -4.859386  -10.200000   -8.800000   \n",
       "25%     66.250000   -5.411063   -4.266236    0.975234   -5.675000   -4.475000   \n",
       "50%    132.500000   -3.323984   -2.724636    3.642643   -1.800000   -2.950000   \n",
       "75%    198.750000   -0.217629   -1.369519    5.599922    0.537500   -1.700000   \n",
       "max    265.000000    6.533642    4.267692    8.824521    7.800000    7.800000   \n",
       "\n",
       "       a_z_median     a_x_max     a_y_max     a_z_max  ...     o_x_max  \\\n",
       "count  266.000000  266.000000  266.000000  266.000000  ...  266.000000   \n",
       "mean     3.249624   18.246241   17.506015   24.478195  ...    0.454135   \n",
       "std      3.898478   13.263751   11.961878   10.949647  ...    0.281106   \n",
       "min     -8.300000   -1.800000   -0.600000    9.300000  ...   -0.100000   \n",
       "25%      0.700000    5.575000    7.650000   13.550000  ...    0.200000   \n",
       "50%      3.225000   17.100000   14.150000   23.000000  ...    0.500000   \n",
       "75%      6.600000   30.600000   25.775000   36.175000  ...    0.700000   \n",
       "max      9.700000   39.200000   39.100000   39.200000  ...    1.000000   \n",
       "\n",
       "          o_y_max     o_z_max     o_x_min     o_y_min     o_z_min    o_x_diff  \\\n",
       "count  266.000000  266.000000  266.000000  266.000000  266.000000  266.000000   \n",
       "mean     0.457895    0.480451   -0.463534   -0.462782   -0.384962    0.917669   \n",
       "std      0.274642    0.475586    0.260452    0.275143    0.523197    0.281686   \n",
       "min     -0.200000   -0.700000   -1.000000   -1.000000   -1.000000    0.300000   \n",
       "25%      0.200000    0.200000   -0.700000   -0.700000   -0.900000    0.700000   \n",
       "50%      0.500000    0.600000   -0.500000   -0.500000   -0.500000    0.900000   \n",
       "75%      0.700000    0.900000   -0.200000   -0.200000    0.000000    1.100000   \n",
       "max      1.000000    1.000000    0.100000    0.200000    0.900000    1.800000   \n",
       "\n",
       "         o_y_diff    o_z_diff      fallen  \n",
       "count  266.000000  266.000000  266.000000  \n",
       "mean     0.920677    0.865414    0.421053  \n",
       "std      0.295222    0.467033    0.494659  \n",
       "min      0.300000    0.000000    0.000000  \n",
       "25%      0.700000    0.500000    0.000000  \n",
       "50%      0.900000    0.800000    0.000000  \n",
       "75%      1.100000    1.075000    1.000000  \n",
       "max      1.700000    2.000000    1.000000  \n",
       "\n",
       "[8 rows x 47 columns]"
      ]
     },
     "execution_count": 4,
     "metadata": {},
     "output_type": "execute_result"
    }
   ],
   "source": [
    "df.describe()"
   ]
  },
  {
   "cell_type": "code",
   "execution_count": 5,
   "id": "f086c43c",
   "metadata": {},
   "outputs": [
    {
     "name": "stdout",
     "output_type": "stream",
     "text": [
      "<class 'pandas.core.frame.DataFrame'>\n",
      "RangeIndex: 266 entries, 0 to 265\n",
      "Data columns (total 47 columns):\n",
      " #   Column      Non-Null Count  Dtype  \n",
      "---  ------      --------------  -----  \n",
      " 0   Unnamed: 0  266 non-null    int64  \n",
      " 1   a_x_mean    266 non-null    float64\n",
      " 2   a_y_mean    266 non-null    float64\n",
      " 3   a_z_mean    266 non-null    float64\n",
      " 4   a_x_median  266 non-null    float64\n",
      " 5   a_y_median  266 non-null    float64\n",
      " 6   a_z_median  266 non-null    float64\n",
      " 7   a_x_max     266 non-null    float64\n",
      " 8   a_y_max     266 non-null    float64\n",
      " 9   a_z_max     266 non-null    float64\n",
      " 10  a_x_min     266 non-null    float64\n",
      " 11  a_y_min     266 non-null    float64\n",
      " 12  a_z_min     266 non-null    float64\n",
      " 13  a_x_diff    266 non-null    float64\n",
      " 14  a_y_diff    266 non-null    float64\n",
      " 15  a_z_diff    266 non-null    float64\n",
      " 16  g_x_mean    266 non-null    float64\n",
      " 17  g_y_mean    266 non-null    float64\n",
      " 18  g_z_mean    266 non-null    float64\n",
      " 19  g_x_median  266 non-null    float64\n",
      " 20  g_y_median  266 non-null    float64\n",
      " 21  g_z_median  266 non-null    float64\n",
      " 22  g_x_max     266 non-null    float64\n",
      " 23  g_y_max     266 non-null    float64\n",
      " 24  g_z_max     266 non-null    float64\n",
      " 25  g_x_min     266 non-null    float64\n",
      " 26  g_y_min     266 non-null    float64\n",
      " 27  g_z_min     266 non-null    float64\n",
      " 28  g_x_diff    266 non-null    float64\n",
      " 29  g_y_diff    266 non-null    float64\n",
      " 30  g_z_diff    266 non-null    float64\n",
      " 31  o_x_mean    266 non-null    float64\n",
      " 32  o_y_mean    266 non-null    float64\n",
      " 33  o_z_mean    266 non-null    float64\n",
      " 34  o_x_median  266 non-null    float64\n",
      " 35  o_y_median  266 non-null    float64\n",
      " 36  o_z_median  266 non-null    float64\n",
      " 37  o_x_max     266 non-null    float64\n",
      " 38  o_y_max     266 non-null    float64\n",
      " 39  o_z_max     266 non-null    float64\n",
      " 40  o_x_min     266 non-null    float64\n",
      " 41  o_y_min     266 non-null    float64\n",
      " 42  o_z_min     266 non-null    float64\n",
      " 43  o_x_diff    266 non-null    float64\n",
      " 44  o_y_diff    266 non-null    float64\n",
      " 45  o_z_diff    266 non-null    float64\n",
      " 46  fallen      266 non-null    int64  \n",
      "dtypes: float64(45), int64(2)\n",
      "memory usage: 97.8 KB\n"
     ]
    }
   ],
   "source": [
    "df.info()"
   ]
  },
  {
   "cell_type": "code",
   "execution_count": 6,
   "id": "19ae4374",
   "metadata": {},
   "outputs": [
    {
     "data": {
      "text/plain": [
       "(266, 47)"
      ]
     },
     "execution_count": 6,
     "metadata": {},
     "output_type": "execute_result"
    }
   ],
   "source": [
    "df.shape"
   ]
  },
  {
   "cell_type": "code",
   "execution_count": 7,
   "id": "7a3cf304",
   "metadata": {},
   "outputs": [],
   "source": [
    "df=df.values\n",
    "X=df[:,:-1]\n",
    "Y=df[:,-1]"
   ]
  },
  {
   "cell_type": "code",
   "execution_count": 8,
   "id": "57787bf9",
   "metadata": {},
   "outputs": [],
   "source": [
    "from sklearn.model_selection import train_test_split as tts\n",
    "X_train,X_test,Y_train,Y_test=tts(X,Y,test_size=0.2)\n",
    "from sklearn.metrics import accuracy_score"
   ]
  },
  {
   "cell_type": "code",
   "execution_count": 9,
   "id": "de533045",
   "metadata": {},
   "outputs": [
    {
     "name": "stdout",
     "output_type": "stream",
     "text": [
      "96.29629629629629\n"
     ]
    },
    {
     "name": "stderr",
     "output_type": "stream",
     "text": [
      "C:\\Users\\tiruv\\anaconda3\\lib\\site-packages\\sklearn\\linear_model\\_logistic.py:763: ConvergenceWarning: lbfgs failed to converge (status=1):\n",
      "STOP: TOTAL NO. of ITERATIONS REACHED LIMIT.\n",
      "\n",
      "Increase the number of iterations (max_iter) or scale the data as shown in:\n",
      "    https://scikit-learn.org/stable/modules/preprocessing.html\n",
      "Please also refer to the documentation for alternative solver options:\n",
      "    https://scikit-learn.org/stable/modules/linear_model.html#logistic-regression\n",
      "  n_iter_i = _check_optimize_result(\n"
     ]
    }
   ],
   "source": [
    "from sklearn.linear_model import LogisticRegression\n",
    "LR=LogisticRegression()\n",
    "LR.fit(X_train,Y_train)\n",
    "\n",
    "Y_pred=LR.predict(X_test)\n",
    "\n",
    "\n",
    "from sklearn.metrics import accuracy_score\n",
    "print(accuracy_score(Y_test,Y_pred)*100)"
   ]
  },
  {
   "cell_type": "code",
   "execution_count": 10,
   "id": "881342d9",
   "metadata": {},
   "outputs": [
    {
     "name": "stderr",
     "output_type": "stream",
     "text": [
      "C:\\Users\\tiruv\\anaconda3\\lib\\site-packages\\sklearn\\linear_model\\_logistic.py:763: ConvergenceWarning: lbfgs failed to converge (status=1):\n",
      "STOP: TOTAL NO. of ITERATIONS REACHED LIMIT.\n",
      "\n",
      "Increase the number of iterations (max_iter) or scale the data as shown in:\n",
      "    https://scikit-learn.org/stable/modules/preprocessing.html\n",
      "Please also refer to the documentation for alternative solver options:\n",
      "    https://scikit-learn.org/stable/modules/linear_model.html#logistic-regression\n",
      "  n_iter_i = _check_optimize_result(\n",
      "C:\\Users\\tiruv\\anaconda3\\lib\\site-packages\\sklearn\\linear_model\\_logistic.py:763: ConvergenceWarning: lbfgs failed to converge (status=1):\n",
      "STOP: TOTAL NO. of ITERATIONS REACHED LIMIT.\n",
      "\n",
      "Increase the number of iterations (max_iter) or scale the data as shown in:\n",
      "    https://scikit-learn.org/stable/modules/preprocessing.html\n",
      "Please also refer to the documentation for alternative solver options:\n",
      "    https://scikit-learn.org/stable/modules/linear_model.html#logistic-regression\n",
      "  n_iter_i = _check_optimize_result(\n",
      "C:\\Users\\tiruv\\anaconda3\\lib\\site-packages\\sklearn\\linear_model\\_logistic.py:763: ConvergenceWarning: lbfgs failed to converge (status=1):\n",
      "STOP: TOTAL NO. of ITERATIONS REACHED LIMIT.\n",
      "\n",
      "Increase the number of iterations (max_iter) or scale the data as shown in:\n",
      "    https://scikit-learn.org/stable/modules/preprocessing.html\n",
      "Please also refer to the documentation for alternative solver options:\n",
      "    https://scikit-learn.org/stable/modules/linear_model.html#logistic-regression\n",
      "  n_iter_i = _check_optimize_result(\n",
      "C:\\Users\\tiruv\\anaconda3\\lib\\site-packages\\sklearn\\linear_model\\_logistic.py:763: ConvergenceWarning: lbfgs failed to converge (status=1):\n",
      "STOP: TOTAL NO. of ITERATIONS REACHED LIMIT.\n",
      "\n",
      "Increase the number of iterations (max_iter) or scale the data as shown in:\n",
      "    https://scikit-learn.org/stable/modules/preprocessing.html\n",
      "Please also refer to the documentation for alternative solver options:\n",
      "    https://scikit-learn.org/stable/modules/linear_model.html#logistic-regression\n",
      "  n_iter_i = _check_optimize_result(\n"
     ]
    },
    {
     "data": {
      "text/plain": [
       "95.13626834381552"
      ]
     },
     "execution_count": 10,
     "metadata": {},
     "output_type": "execute_result"
    }
   ],
   "source": [
    "from sklearn.model_selection import cross_val_score\n",
    "np.mean(cross_val_score(LR,X,Y,scoring='accuracy'))*100"
   ]
  },
  {
   "cell_type": "code",
   "execution_count": 11,
   "id": "cc30e5c7",
   "metadata": {},
   "outputs": [
    {
     "name": "stdout",
     "output_type": "stream",
     "text": [
      "96.29629629629629\n"
     ]
    }
   ],
   "source": [
    "from sklearn.preprocessing import StandardScaler\n",
    "sc = StandardScaler()\n",
    "X_train = sc.fit_transform(X_train)\n",
    "X_test = sc.transform(X_test)\n",
    "\n",
    "\n",
    "from sklearn.ensemble import RandomForestClassifier\n",
    "classifier = RandomForestClassifier(n_estimators =15,criterion='entropy', random_state = 0)\n",
    "classifier.fit(X_train, Y_train)\n",
    "\n",
    "\n",
    "Y_pred=classifier.predict(X_test)\n",
    "# for i in range(len(X_test)):\n",
    "#     print(np.round(Y_pred[i]),Y_test[i])\n",
    "\n",
    "print(accuracy_score(Y_test,np.round(Y_pred))*100)"
   ]
  },
  {
   "cell_type": "code",
   "execution_count": 12,
   "id": "9e288748",
   "metadata": {},
   "outputs": [
    {
     "data": {
      "text/plain": [
       "95.8909853249476"
      ]
     },
     "execution_count": 12,
     "metadata": {},
     "output_type": "execute_result"
    }
   ],
   "source": [
    "\n",
    "np.mean(cross_val_score(RandomForestClassifier(),X,Y,scoring='accuracy'))*100"
   ]
  },
  {
   "cell_type": "markdown",
   "id": "fa9bb3af",
   "metadata": {},
   "source": [
    "# Grid Search Cv"
   ]
  },
  {
   "cell_type": "code",
   "execution_count": 13,
   "id": "0289bb90",
   "metadata": {},
   "outputs": [],
   "source": [
    "# Number of trees in random forest\n",
    "n_estimators = [10,20,60,100,120]\n",
    "\n",
    "# Number of features to consider at every split\n",
    "max_features = [0.2,0.6,1.0]\n",
    "\n",
    "# Maximum number of levels in tree\n",
    "max_depth = [2,8,None]\n",
    "\n",
    "# Number of samples\n",
    "max_samples = [0.5,0.4,0.75,1.0]"
   ]
  },
  {
   "cell_type": "code",
   "execution_count": 14,
   "id": "6c424afb",
   "metadata": {},
   "outputs": [
    {
     "name": "stdout",
     "output_type": "stream",
     "text": [
      "{'n_estimators': [10, 20, 60, 100, 120], 'max_features': [0.2, 0.6, 1.0], 'max_depth': [2, 8, None], 'max_samples': [0.5, 0.4, 0.75, 1.0]}\n"
     ]
    }
   ],
   "source": [
    "param_grid = {'n_estimators': n_estimators,\n",
    "               'max_features': max_features,\n",
    "               'max_depth': max_depth,\n",
    "              'max_samples':max_samples\n",
    "             }\n",
    "print(param_grid)"
   ]
  },
  {
   "cell_type": "code",
   "execution_count": 15,
   "id": "e4ba66c7",
   "metadata": {},
   "outputs": [],
   "source": [
    "from sklearn.model_selection import GridSearchCV\n",
    "\n",
    "rf_grid = GridSearchCV(estimator = classifier, \n",
    "                       param_grid = param_grid, \n",
    "                       cv = 5, \n",
    "                       verbose=2, \n",
    "                       n_jobs = -1)"
   ]
  },
  {
   "cell_type": "code",
   "execution_count": 16,
   "id": "fc5662d1",
   "metadata": {},
   "outputs": [
    {
     "name": "stdout",
     "output_type": "stream",
     "text": [
      "Fitting 5 folds for each of 180 candidates, totalling 900 fits\n"
     ]
    },
    {
     "name": "stderr",
     "output_type": "stream",
     "text": [
      "C:\\Users\\tiruv\\anaconda3\\lib\\site-packages\\sklearn\\model_selection\\_search.py:918: UserWarning: One or more of the test scores are non-finite: [0.98571429 1.         0.9952381  0.99058693 0.99058693 0.98582503\n",
      " 1.         0.99058693 0.99058693 0.98582503 0.99047619 1.\n",
      " 0.98117386 0.99047619 0.99047619        nan        nan        nan\n",
      "        nan        nan 0.99534884 0.99534884 1.         1.\n",
      " 1.         0.99534884 1.         1.         1.         1.\n",
      " 0.99534884 0.99534884 0.99534884 0.99534884 0.9952381         nan\n",
      "        nan        nan        nan        nan 0.99058693 0.99058693\n",
      " 0.99058693 0.99058693 0.99058693 0.99534884 0.99534884 0.99058693\n",
      " 0.99058693 0.99058693 0.99058693 0.99058693 0.99058693 0.99058693\n",
      " 0.99058693        nan        nan        nan        nan        nan\n",
      " 0.99534884 1.         0.9952381  0.9952381  0.9952381  0.98582503\n",
      " 1.         1.         0.9952381  0.9952381  0.99069767 1.\n",
      " 1.         0.9952381  1.                nan        nan        nan\n",
      "        nan        nan 0.99534884 1.         1.         1.\n",
      " 1.         0.99534884 1.         1.         1.         1.\n",
      " 0.99534884 0.99534884 1.         1.         1.                nan\n",
      "        nan        nan        nan        nan 0.99058693 0.99058693\n",
      " 0.99058693 0.99058693 0.99058693 0.99534884 0.99534884 0.99058693\n",
      " 0.99058693 0.99058693 0.99058693 0.99058693 0.99058693 0.99058693\n",
      " 0.99058693        nan        nan        nan        nan        nan\n",
      " 0.99534884 1.         0.9952381  0.9952381  0.9952381  0.98582503\n",
      " 1.         1.         0.9952381  0.9952381  0.99069767 1.\n",
      " 1.         0.9952381  1.                nan        nan        nan\n",
      "        nan        nan 0.99534884 1.         1.         1.\n",
      " 1.         0.99534884 1.         1.         1.         1.\n",
      " 0.99534884 0.99534884 1.         1.         1.                nan\n",
      "        nan        nan        nan        nan 0.99058693 0.99058693\n",
      " 0.99058693 0.99058693 0.99058693 0.99534884 0.99534884 0.99058693\n",
      " 0.99058693 0.99058693 0.99058693 0.99058693 0.99058693 0.99058693\n",
      " 0.99058693        nan        nan        nan        nan        nan]\n",
      "  warnings.warn(\n"
     ]
    },
    {
     "data": {
      "text/plain": [
       "GridSearchCV(cv=5,\n",
       "             estimator=RandomForestClassifier(criterion='entropy',\n",
       "                                              n_estimators=15, random_state=0),\n",
       "             n_jobs=-1,\n",
       "             param_grid={'max_depth': [2, 8, None],\n",
       "                         'max_features': [0.2, 0.6, 1.0],\n",
       "                         'max_samples': [0.5, 0.4, 0.75, 1.0],\n",
       "                         'n_estimators': [10, 20, 60, 100, 120]},\n",
       "             verbose=2)"
      ]
     },
     "execution_count": 16,
     "metadata": {},
     "output_type": "execute_result"
    }
   ],
   "source": [
    "rf_grid.fit(X_train,Y_train)"
   ]
  },
  {
   "cell_type": "code",
   "execution_count": 17,
   "id": "609289b1",
   "metadata": {},
   "outputs": [
    {
     "data": {
      "text/plain": [
       "{'max_depth': 2, 'max_features': 0.2, 'max_samples': 0.5, 'n_estimators': 10}"
      ]
     },
     "execution_count": 17,
     "metadata": {},
     "output_type": "execute_result"
    }
   ],
   "source": [
    "rf_grid.best_params_"
   ]
  },
  {
   "cell_type": "code",
   "execution_count": 18,
   "id": "c9d4e678",
   "metadata": {},
   "outputs": [
    {
     "data": {
      "text/plain": [
       "0.9857142857142858"
      ]
     },
     "execution_count": 18,
     "metadata": {},
     "output_type": "execute_result"
    }
   ],
   "source": [
    "rf_grid.best_score_"
   ]
  },
  {
   "cell_type": "code",
   "execution_count": 19,
   "id": "7cd4d3b9",
   "metadata": {},
   "outputs": [
    {
     "name": "stdout",
     "output_type": "stream",
     "text": [
      "100.0\n"
     ]
    }
   ],
   "source": [
    "from sklearn.tree import DecisionTreeRegressor\n",
    "from sklearn.metrics import mean_absolute_error, r2_score\n",
    "dtree = DecisionTreeRegressor()\n",
    "dtree.fit(X_train, Y_train)\n",
    "\n",
    "Y_pred = dtree.predict(X_test)\n",
    "dtree_mae = mean_absolute_error(Y_test, Y_pred)\n",
    "dtree_mae\n",
    "\n",
    "print(accuracy_score(Y_test,Y_pred)*100)"
   ]
  },
  {
   "cell_type": "code",
   "execution_count": 20,
   "id": "f982dbe6",
   "metadata": {},
   "outputs": [
    {
     "data": {
      "text/plain": [
       "91.69811320754718"
      ]
     },
     "execution_count": 20,
     "metadata": {},
     "output_type": "execute_result"
    }
   ],
   "source": [
    "np.mean(cross_val_score(dtree,X,Y,scoring='accuracy'))*100"
   ]
  },
  {
   "cell_type": "code",
   "execution_count": null,
   "id": "3eeab59b",
   "metadata": {},
   "outputs": [],
   "source": []
  }
 ],
 "metadata": {
  "kernelspec": {
   "display_name": "Python 3",
   "language": "python",
   "name": "python3"
  },
  "language_info": {
   "codemirror_mode": {
    "name": "ipython",
    "version": 3
   },
   "file_extension": ".py",
   "mimetype": "text/x-python",
   "name": "python",
   "nbconvert_exporter": "python",
   "pygments_lexer": "ipython3",
   "version": "3.8.8"
  }
 },
 "nbformat": 4,
 "nbformat_minor": 5
}
